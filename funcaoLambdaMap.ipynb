{
  "nbformat": 4,
  "nbformat_minor": 0,
  "metadata": {
    "colab": {
      "provenance": [],
      "authorship_tag": "ABX9TyOeGbp31LAIs5uCXbe+ez/w"
    },
    "kernelspec": {
      "name": "python3",
      "display_name": "Python 3"
    },
    "language_info": {
      "name": "python"
    }
  },
  "cells": [
    {
      "cell_type": "code",
      "execution_count": 3,
      "metadata": {
        "colab": {
          "base_uri": "https://localhost:8080/"
        },
        "id": "iRz7U04o_UmZ",
        "outputId": "59859773-810a-4b13-c6f5-901da1d9c53e"
      },
      "outputs": [
        {
          "output_type": "stream",
          "name": "stdout",
          "text": [
            "[1, 4, 9, 16, 25, 36, 49, 64]\n"
          ]
        }
      ],
      "source": [
        "numeros = [1,2,3,4,5,6,7,8]\n",
        "\n",
        "quadrado = lambda fator : fator*fator\n",
        "\n",
        "print(list(map(quadrado, numeros)))"
      ]
    }
  ]
}