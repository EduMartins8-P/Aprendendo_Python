{
  "nbformat": 4,
  "nbformat_minor": 0,
  "metadata": {
    "colab": {
      "provenance": [],
      "authorship_tag": "ABX9TyM1EUL2yLPSYtDWRQ+So6r5"
    },
    "kernelspec": {
      "name": "python3",
      "display_name": "Python 3"
    },
    "language_info": {
      "name": "python"
    }
  },
  "cells": [
    {
      "cell_type": "code",
      "execution_count": 29,
      "metadata": {
        "colab": {
          "base_uri": "https://localhost:8080/"
        },
        "id": "cjvCTQ545UyT",
        "outputId": "e4abc934-0d4e-400a-a328-ec48b5f36e52"
      },
      "outputs": [
        {
          "name": "stdout",
          "output_type": "stream",
          "text": [
            "selecione o genero, verificar jogos ou encerrar plataforma\n",
            "selecione um jogo para o genero plataforma mario\n",
            "genero plataforma criada e jogo mario adicionado\n",
            "selecione o genero, verificar jogos ou encerrar verificar\n",
            "terror: ['dead space', 'outlast', 'slenderman']\n",
            "comedia: ['undertale', 'rubber bandits', 'IWBTGG']\n",
            "rpg: ['final fantasy', 'world of warcraft', 'AQW']\n",
            "plataforma: ['mario']\n",
            "selecione o genero, verificar jogos ou encerrar encerrar\n"
          ]
        }
      ],
      "source": [
        "jogos = {\n",
        "    'terror': ['dead space', 'outlast', 'slenderman'],\n",
        "    'comedia': ['undertale', 'rubber bandits', 'IWBTGG'],\n",
        "    'rpg': ['final fantasy', 'world of warcraft', 'AQW']\n",
        "}\n",
        "\n",
        "while 1:\n",
        "  controle_genero = input('selecione o genero, verificar jogos ou encerrar ')\n",
        "\n",
        "  if controle_genero == 'encerrar':\n",
        "    break\n",
        "\n",
        "  if controle_genero in jogos:\n",
        "    controle_jogos = input('selecione o jogo ')\n",
        "\n",
        "    if controle_jogos in jogos[controle_genero]:\n",
        "      jogos[controle_genero].remove(controle_jogos)\n",
        "      print(f'{controle_jogos} removido')\n",
        "    else:\n",
        "      jogos[controle_genero].append(controle_jogos)\n",
        "      print(f'jogo {controle_jogos} adicionado no genero {controle_genero}!')\n",
        "      print()\n",
        "\n",
        "  elif controle_genero == 'verificar':\n",
        "    for genero in jogos:\n",
        "        print(f'{genero}: {jogos[genero]}')\n",
        "\n",
        "  else:\n",
        "    controle_jogos = input(f'selecione um jogo para o genero {controle_genero} ')\n",
        "    jogos.update({controle_genero : [controle_jogos]})\n",
        "    print(f'genero {controle_genero} criada e jogo {controle_jogos} adicionado')\n"
      ]
    }
  ]
}