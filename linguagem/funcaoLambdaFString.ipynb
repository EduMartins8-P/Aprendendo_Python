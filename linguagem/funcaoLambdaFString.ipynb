{
  "nbformat": 4,
  "nbformat_minor": 0,
  "metadata": {
    "colab": {
      "provenance": [],
      "authorship_tag": "ABX9TyOAIM/CV1h8VJS7JUk08S4E"
    },
    "kernelspec": {
      "name": "python3",
      "display_name": "Python 3"
    },
    "language_info": {
      "name": "python"
    }
  },
  "cells": [
    {
      "cell_type": "code",
      "execution_count": 5,
      "metadata": {
        "colab": {
          "base_uri": "https://localhost:8080/"
        },
        "id": "zEkTGoJU9kCb",
        "outputId": "d0cf81fc-da8d-49a9-9ea2-b43895fe7019"
      },
      "outputs": [
        {
          "output_type": "stream",
          "name": "stdout",
          "text": [
            "inserir nome: Eduardo\n",
            "inserir sobrenome: Martins\n",
            "nome: Eduardo Martins\n"
          ]
        }
      ],
      "source": [
        "adicionar_sobrenome = lambda nome, sobrenome : f'nome: {nome} {sobrenome}'\n",
        "\n",
        "nome = input('inserir nome: ')\n",
        "sobrenome = input('inserir sobrenome: ')\n",
        "\n",
        "print(adicionar_sobrenome(nome, sobrenome))"
      ]
    }
  ]
}
