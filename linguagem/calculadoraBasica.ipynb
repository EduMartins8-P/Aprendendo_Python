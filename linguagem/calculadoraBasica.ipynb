{
  "nbformat": 4,
  "nbformat_minor": 0,
  "metadata": {
    "colab": {
      "provenance": [],
      "authorship_tag": "ABX9TyNLsLQIhC6KS5luGmyjd4d3"
    },
    "kernelspec": {
      "name": "python3",
      "display_name": "Python 3"
    },
    "language_info": {
      "name": "python"
    }
  },
  "cells": [
    {
      "cell_type": "code",
      "execution_count": 5,
      "metadata": {
        "colab": {
          "base_uri": "https://localhost:8080/"
        },
        "id": "Qt6ejhJslGJb",
        "outputId": "36bf04e3-cccf-4d77-d3ae-b55e8f3ed346"
      },
      "outputs": [
        {
          "output_type": "stream",
          "name": "stdout",
          "text": [
            "insira a operacao**\n",
            "insira primeiro valor3\n",
            "insura segundo valor4\n",
            "81.0\n"
          ]
        }
      ],
      "source": [
        "def operacao(operador, numero1, numero2):\n",
        "  if operador == '+':\n",
        "    return numero1 + numero2\n",
        "  elif operador == '-':\n",
        "    return numero1 - numero2\n",
        "  elif operador == '*':\n",
        "    return numero1 * numero2\n",
        "  elif operador == '/':\n",
        "    return numero1 / numero2\n",
        "  elif operador == '**':\n",
        "    return numero1 ** numero2\n",
        "  else:\n",
        "    print('operacao invalida')\n",
        "\n",
        "operador = input('insira a operacao')\n",
        "numero1 = float(input('insira primeiro valor'))\n",
        "numero2 = float(input('insura segundo valor'))\n",
        "\n",
        "print(operacao(operador, numero1, numero2))"
      ]
    }
  ]
}