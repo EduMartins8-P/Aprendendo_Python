{
  "nbformat": 4,
  "nbformat_minor": 0,
  "metadata": {
    "colab": {
      "provenance": [],
      "authorship_tag": "ABX9TyPDpSwxd8pDn9nvroE2xmZt"
    },
    "kernelspec": {
      "name": "python3",
      "display_name": "Python 3"
    },
    "language_info": {
      "name": "python"
    }
  },
  "cells": [
    {
      "cell_type": "code",
      "execution_count": null,
      "metadata": {
        "colab": {
          "base_uri": "https://localhost:8080/"
        },
        "id": "DFn6n-5gCfAv",
        "outputId": "21da59d9-7c2c-43d2-8c23-f6148300bb54"
      },
      "outputs": [
        {
          "output_type": "stream",
          "name": "stdout",
          "text": [
            "insira a parcela1 9.4\n",
            "insira a parcela2 6.1\n",
            "7.75\n"
          ]
        }
      ],
      "source": [
        "media = lambda numero1, numero2: (numero1 + numero2)/2\n",
        "print(media((float(input('insira a parcela1 '))) , float(input('insira a parcela2 '))))"
      ]
    }
  ]
}