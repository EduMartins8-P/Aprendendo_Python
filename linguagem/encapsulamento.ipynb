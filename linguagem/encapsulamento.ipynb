{
  "nbformat": 4,
  "nbformat_minor": 0,
  "metadata": {
    "colab": {
      "provenance": [],
      "authorship_tag": "ABX9TyNV+uW43X0VKZ2CCp7I2kpO"
    },
    "kernelspec": {
      "name": "python3",
      "display_name": "Python 3"
    },
    "language_info": {
      "name": "python"
    }
  },
  "cells": [
    {
      "cell_type": "code",
      "execution_count": 8,
      "metadata": {
        "colab": {
          "base_uri": "https://localhost:8080/"
        },
        "id": "j6F-Hp6T-DXg",
        "outputId": "ef331ce3-c382-4bb2-dacf-db15b0a796c1"
      },
      "outputs": [
        {
          "output_type": "stream",
          "name": "stdout",
          "text": [
            "insira nome Eduardo Martins\n",
            "insira matricula 2021003\n",
            "insira ira 7.75\n",
            "ira alto!\n"
          ]
        }
      ],
      "source": [
        "class aluno:\n",
        "  def __init__(self, nome, matricula, ira):\n",
        "    self.nome = nome\n",
        "    self.matricula = float(matricula)\n",
        "    self.ira = float(ira)\n",
        "\n",
        "  def avaliar_ira(self):\n",
        "    if self.ira >= 7:\n",
        "      print('ira alto!')\n",
        "    elif self.ira > 5:\n",
        "      print('ira medio')\n",
        "    else :\n",
        "      print('ira baixo :(')\n",
        "\n",
        "estudante = aluno(input('insira nome '), input('insira matricula '), input('insira ira '))\n",
        "\n",
        "estudante.avaliar_ira()\n"
      ]
    }
  ]
}