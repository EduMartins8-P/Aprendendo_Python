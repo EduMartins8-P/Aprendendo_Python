{
  "nbformat": 4,
  "nbformat_minor": 0,
  "metadata": {
    "colab": {
      "provenance": [],
      "authorship_tag": "ABX9TyMsyjrkVoHf3IcBjlKtjs6T"
    },
    "kernelspec": {
      "name": "python3",
      "display_name": "Python 3"
    },
    "language_info": {
      "name": "python"
    }
  },
  "cells": [
    {
      "cell_type": "code",
      "execution_count": 3,
      "metadata": {
        "colab": {
          "base_uri": "https://localhost:8080/"
        },
        "id": "yT7jNlgBMLKG",
        "outputId": "aca09879-3315-4450-cf1f-42ffffcebeca"
      },
      "outputs": [
        {
          "output_type": "stream",
          "name": "stdout",
          "text": [
            "insira nome Eduardo Martins\n",
            "insira matricula 2021003\n",
            "insira ira 7.75\n",
            "nome: Eduardo Martins\n",
            "matricula: 2021003\n",
            "ira: 7.75\n",
            "aluno deletado\n"
          ]
        }
      ],
      "source": [
        "class aluno:\n",
        "  def __init__(self, nome, matricula, ira):\n",
        "    self.nome = nome\n",
        "    self.matricula = matricula\n",
        "    self.ira = ira\n",
        "\n",
        "  def imprimir_aluno(self):\n",
        "    return f'''nome: {self.nome}\n",
        "matricula: {self.matricula}\n",
        "ira: {self.ira}'''\n",
        "  def __del__(self):\n",
        "    print('aluno deletado')\n",
        "\n",
        "estudante = aluno(input('insira nome '), input('insira matricula '), input('insira ira '))\n",
        "\n",
        "print(estudante.imprimir_aluno())\n",
        "\n",
        "del estudante\n"
      ]
    }
  ]
}