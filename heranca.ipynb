{
  "nbformat": 4,
  "nbformat_minor": 0,
  "metadata": {
    "colab": {
      "provenance": [],
      "authorship_tag": "ABX9TyM5rx2WU1I6gkHW4+ujmvLL"
    },
    "kernelspec": {
      "name": "python3",
      "display_name": "Python 3"
    },
    "language_info": {
      "name": "python"
    }
  },
  "cells": [
    {
      "cell_type": "code",
      "execution_count": 52,
      "metadata": {
        "colab": {
          "base_uri": "https://localhost:8080/"
        },
        "id": "-ZmJpp_V_5S5",
        "outputId": "7f3c942b-d214-473e-a328-69d75f75b036"
      },
      "outputs": [
        {
          "output_type": "stream",
          "name": "stdout",
          "text": [
            "Nome do estudante Eduardo Martins\n",
            "CPF do estudante 111142\n",
            "Instituicao de ensino do estudante UFRRJ\n",
            "Nome do empregador Fulano Ciclano\n",
            "CPF do empregador 123456\n",
            "CNPJ do empregador 654321\n",
            "\n",
            "Nome: Eduardo Martins\n",
            "CPF: 111142\n",
            "Instituicao: UFRRJ\n",
            "\n",
            "Nome: Fulano Ciclano\n",
            "CPF: 123456\n",
            "CNPJ: 654321\n",
            "\n"
          ]
        }
      ],
      "source": [
        "class Pessoa:\n",
        "  def __init__(self, nome, cpf):\n",
        "    self.nome = nome\n",
        "    self.cpf = cpf\n",
        "\n",
        "  def imprimir_pessoa(self):\n",
        "    print(f'''Nome: {self.nome}\n",
        "CPF: {self.cpf}''')\n",
        "\n",
        "class Empregador(Pessoa):\n",
        "  def __init__(self, nome, cpf, cnpj):\n",
        "    self.cnpj = cnpj\n",
        "    Pessoa.__init__(self, nome, cpf)\n",
        "\n",
        "  def imprimir_empregador(self):\n",
        "    self.imprimir_pessoa()\n",
        "    print(f'CNPJ: {self.cnpj}')\n",
        "\n",
        "class Estagiario(Pessoa):\n",
        "  def __init__(self, nome, cpf, instituicao):\n",
        "    self.instituicao = instituicao\n",
        "    Pessoa.__init__(self, nome, cpf)\n",
        "\n",
        "  def imprimir_estagiario(self):\n",
        "    self.imprimir_pessoa()\n",
        "    print(f'Instituicao: {self.instituicao}')\n",
        "\n",
        "\n",
        "estudante = Estagiario(input('Nome do estudante '), input('CPF do estudante '), input('Instituicao de ensino do estudante '))\n",
        "empresario = Empregador(input('Nome do empregador '), input('CPF do empregador '), input('CNPJ do empregador '))\n",
        "\n",
        "print()\n",
        "estudante.imprimir_estagiario()\n",
        "print()\n",
        "empresario.imprimir_empregador()\n",
        "print()"
      ]
    },
    {
      "cell_type": "code",
      "source": [],
      "metadata": {
        "id": "BkuoQgzsbYPr"
      },
      "execution_count": null,
      "outputs": []
    },
    {
      "cell_type": "code",
      "source": [],
      "metadata": {
        "id": "qv3y_4cJbymP"
      },
      "execution_count": null,
      "outputs": []
    },
    {
      "cell_type": "code",
      "source": [],
      "metadata": {
        "id": "op2jWbWCFOjt"
      },
      "execution_count": null,
      "outputs": []
    }
  ]
}