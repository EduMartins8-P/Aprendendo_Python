{
  "nbformat": 4,
  "nbformat_minor": 0,
  "metadata": {
    "colab": {
      "provenance": [],
      "authorship_tag": "ABX9TyPdWqvfFK4ZaH0F6H0+DLC3"
    },
    "kernelspec": {
      "name": "python3",
      "display_name": "Python 3"
    },
    "language_info": {
      "name": "python"
    }
  },
  "cells": [
    {
      "cell_type": "code",
      "execution_count": 10,
      "metadata": {
        "id": "zmUHE-m-pPs_",
        "colab": {
          "base_uri": "https://localhost:8080/"
        },
        "outputId": "aed8ed43-38a3-438d-dcc0-9b23f339d235"
      },
      "outputs": [
        {
          "output_type": "stream",
          "name": "stdout",
          "text": [
            "nome: Eduardo\n",
            "cpf: 123\n",
            "ira: 7.75\n",
            "\n",
            "nome: Gabriel\n",
            "cpf: 456\n",
            "ira: 7.76\n",
            "\n",
            "nome: Martins\n",
            "cpf: 789\n",
            "ira: 7.77\n",
            "\n",
            "nome: Fulano\n",
            "cpf: 987\n",
            "disciplina: programacao\n",
            "\n",
            "nome: Ciclano\n",
            "cpf: 654\n",
            "disciplina: calculo\n",
            "\n",
            "nome: Beltrano\n",
            "cpf: 321\n",
            "disciplina: engenharia\n",
            "\n"
          ]
        }
      ],
      "source": [
        "class Pessoa:\n",
        "  def __init__(self, nome, cpf):\n",
        "    self.nome = nome\n",
        "    self.cpf = cpf\n",
        "\n",
        "class Estudante(Pessoa):\n",
        "  def __init__(self, nome, cpf, ira):\n",
        "    self.ira = ira\n",
        "    Pessoa.__init__(self, nome, cpf)\n",
        "\n",
        "  def informacoes(self):\n",
        "    print(f'''nome: {self.nome}\n",
        "cpf: {self.cpf}\n",
        "ira: {self.ira}''')\n",
        "\n",
        "class Professor(Pessoa):\n",
        "  def __init__(self, nome, cpf, disciplina):\n",
        "    self.disciplina = disciplina\n",
        "    Pessoa.__init__(self, nome, cpf)\n",
        "\n",
        "  def informacoes(self):\n",
        "    print(f'''nome: {self.nome}\n",
        "cpf: {self.cpf}\n",
        "disciplina: {self.disciplina}''')\n",
        "\n",
        "estudantes = []\n",
        "professores = []\n",
        "\n",
        "\n",
        "estudantes.append(Estudante('Eduardo', '123', '7.75'))\n",
        "estudantes.append(Estudante('Gabriel', '456', '7.76'))\n",
        "estudantes.append(Estudante('Martins', '789', '7.77'))\n",
        "\n",
        "professores.append(Professor('Fulano', '987', 'programacao'))\n",
        "professores.append(Professor('Ciclano', '654', 'calculo'))\n",
        "professores.append(Professor('Beltrano', '321', 'engenharia'))\n",
        "\n",
        "for academico in estudantes + professores:\n",
        "  academico.informacoes()\n",
        "  print()"
      ]
    }
  ]
}