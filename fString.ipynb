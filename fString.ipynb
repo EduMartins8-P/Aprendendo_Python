{
  "nbformat": 4,
  "nbformat_minor": 0,
  "metadata": {
    "colab": {
      "provenance": [],
      "authorship_tag": "ABX9TyP0mlvh15TnxLpY4Md+Dn9f"
    },
    "kernelspec": {
      "name": "python3",
      "display_name": "Python 3"
    },
    "language_info": {
      "name": "python"
    }
  },
  "cells": [
    {
      "cell_type": "code",
      "execution_count": 11,
      "metadata": {
        "id": "TFonZ4Us8fH0",
        "colab": {
          "base_uri": "https://localhost:8080/"
        },
        "outputId": "1ee6d840-7594-4ae4-8797-386992eb2328"
      },
      "outputs": [
        {
          "output_type": "stream",
          "name": "stdout",
          "text": [
            "nome: Eduardo Martins\n",
            "curso: Ciencia da Computacao\n",
            "IRA = 7.75\n"
          ]
        }
      ],
      "source": [
        "nome = 'Eduardo Martins'\n",
        "curso = 'Ciencia da Computacao'\n",
        "nota1 = 9.4\n",
        "nota2 = 6.1\n",
        "pessoa = f'''nome: {nome}\n",
        "curso: {curso}\n",
        "IRA = {((nota1 + nota2) / 2):.2f}'''\n",
        "\n",
        "print(pessoa)"
      ]
    }
  ]
}